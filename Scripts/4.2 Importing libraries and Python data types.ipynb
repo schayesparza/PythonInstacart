{
 "cells": [
  {
   "cell_type": "markdown",
   "id": "9902b247",
   "metadata": {},
   "source": [
    "#01 Importing libraries"
   ]
  },
  {
   "cell_type": "code",
   "execution_count": 1,
   "id": "585016a5",
   "metadata": {},
   "outputs": [],
   "source": [
    "#Import libraries\n",
    "import pandas as pd\n",
    "import numpy as np\n",
    "import os"
   ]
  },
  {
   "cell_type": "markdown",
   "id": "dfafb6f6",
   "metadata": {},
   "source": [
    "#02 Data Types"
   ]
  },
  {
   "cell_type": "code",
   "execution_count": 2,
   "id": "e08dd8b1",
   "metadata": {},
   "outputs": [],
   "source": [
    "x=2"
   ]
  },
  {
   "cell_type": "code",
   "execution_count": 3,
   "id": "d273dbf5",
   "metadata": {},
   "outputs": [
    {
     "data": {
      "text/plain": [
       "2"
      ]
     },
     "execution_count": 3,
     "metadata": {},
     "output_type": "execute_result"
    }
   ],
   "source": [
    "x"
   ]
  },
  {
   "cell_type": "code",
   "execution_count": 4,
   "id": "a6f8735c",
   "metadata": {},
   "outputs": [
    {
     "name": "stdout",
     "output_type": "stream",
     "text": [
      "2\n"
     ]
    }
   ],
   "source": [
    "print(x)"
   ]
  },
  {
   "cell_type": "code",
   "execution_count": 5,
   "id": "a48d1103",
   "metadata": {},
   "outputs": [
    {
     "data": {
      "text/plain": [
       "int"
      ]
     },
     "execution_count": 5,
     "metadata": {},
     "output_type": "execute_result"
    }
   ],
   "source": [
    "type(x)"
   ]
  },
  {
   "cell_type": "code",
   "execution_count": 6,
   "id": "cb2f552c",
   "metadata": {},
   "outputs": [],
   "source": [
    "y=5.678"
   ]
  },
  {
   "cell_type": "code",
   "execution_count": 7,
   "id": "0b799b59",
   "metadata": {},
   "outputs": [
    {
     "data": {
      "text/plain": [
       "float"
      ]
     },
     "execution_count": 7,
     "metadata": {},
     "output_type": "execute_result"
    }
   ],
   "source": [
    "type(y)"
   ]
  },
  {
   "cell_type": "code",
   "execution_count": 8,
   "id": "2ae4f1d7",
   "metadata": {},
   "outputs": [],
   "source": [
    "z='Brazil'"
   ]
  },
  {
   "cell_type": "code",
   "execution_count": 9,
   "id": "26c3a47a",
   "metadata": {},
   "outputs": [
    {
     "data": {
      "text/plain": [
       "str"
      ]
     },
     "execution_count": 9,
     "metadata": {},
     "output_type": "execute_result"
    }
   ],
   "source": [
    "type(z)"
   ]
  },
  {
   "cell_type": "code",
   "execution_count": 10,
   "id": "60e530d9",
   "metadata": {},
   "outputs": [
    {
     "data": {
      "text/plain": [
       "str"
      ]
     },
     "execution_count": 10,
     "metadata": {},
     "output_type": "execute_result"
    }
   ],
   "source": [
    "type('mania')"
   ]
  },
  {
   "cell_type": "code",
   "execution_count": 12,
   "id": "0084733b",
   "metadata": {},
   "outputs": [
    {
     "data": {
      "text/plain": [
       "bool"
      ]
     },
     "execution_count": 12,
     "metadata": {},
     "output_type": "execute_result"
    }
   ],
   "source": [
    "type(True)"
   ]
  },
  {
   "cell_type": "code",
   "execution_count": 13,
   "id": "d127ba57",
   "metadata": {},
   "outputs": [
    {
     "data": {
      "text/plain": [
       "bool"
      ]
     },
     "execution_count": 13,
     "metadata": {},
     "output_type": "execute_result"
    }
   ],
   "source": [
    "type(False)"
   ]
  },
  {
   "cell_type": "code",
   "execution_count": 14,
   "id": "42f2fb0d",
   "metadata": {},
   "outputs": [
    {
     "name": "stdout",
     "output_type": "stream",
     "text": [
      "2\n"
     ]
    }
   ],
   "source": [
    "print(x)"
   ]
  },
  {
   "cell_type": "code",
   "execution_count": 15,
   "id": "79d8a63a",
   "metadata": {},
   "outputs": [
    {
     "data": {
      "text/plain": [
       "6"
      ]
     },
     "execution_count": 15,
     "metadata": {},
     "output_type": "execute_result"
    }
   ],
   "source": [
    "x+4"
   ]
  },
  {
   "cell_type": "code",
   "execution_count": 16,
   "id": "7337e801",
   "metadata": {},
   "outputs": [
    {
     "data": {
      "text/plain": [
       "7.678"
      ]
     },
     "execution_count": 16,
     "metadata": {},
     "output_type": "execute_result"
    }
   ],
   "source": [
    "x+y"
   ]
  },
  {
   "cell_type": "code",
   "execution_count": 17,
   "id": "0d711ae9",
   "metadata": {},
   "outputs": [],
   "source": [
    "x=x+4"
   ]
  },
  {
   "cell_type": "code",
   "execution_count": 19,
   "id": "7bb45f28",
   "metadata": {},
   "outputs": [
    {
     "name": "stdout",
     "output_type": "stream",
     "text": [
      "6\n"
     ]
    }
   ],
   "source": [
    "print(x)"
   ]
  },
  {
   "cell_type": "code",
   "execution_count": 24,
   "id": "db5bf8c9",
   "metadata": {},
   "outputs": [],
   "source": [
    "a='hello,'"
   ]
  },
  {
   "cell_type": "code",
   "execution_count": 25,
   "id": "4db676d7",
   "metadata": {},
   "outputs": [],
   "source": [
    "b='marley'"
   ]
  },
  {
   "cell_type": "code",
   "execution_count": 26,
   "id": "40448b8a",
   "metadata": {},
   "outputs": [
    {
     "data": {
      "text/plain": [
       "'hello,marley'"
      ]
     },
     "execution_count": 26,
     "metadata": {},
     "output_type": "execute_result"
    }
   ],
   "source": [
    "a + b"
   ]
  },
  {
   "cell_type": "code",
   "execution_count": 27,
   "id": "22363d42",
   "metadata": {},
   "outputs": [
    {
     "data": {
      "text/plain": [
       "False"
      ]
     },
     "execution_count": 27,
     "metadata": {},
     "output_type": "execute_result"
    }
   ],
   "source": [
    "x==y"
   ]
  },
  {
   "cell_type": "code",
   "execution_count": 28,
   "id": "5c368721",
   "metadata": {},
   "outputs": [
    {
     "data": {
      "text/plain": [
       "bool"
      ]
     },
     "execution_count": 28,
     "metadata": {},
     "output_type": "execute_result"
    }
   ],
   "source": [
    "type(x==y)"
   ]
  },
  {
   "cell_type": "markdown",
   "id": "bfb50258",
   "metadata": {},
   "source": [
    "#Code 3 different ways of reaching a result of 100 by adding or subtracting numeric variables."
   ]
  },
  {
   "cell_type": "code",
   "execution_count": 33,
   "id": "daf0bc29",
   "metadata": {},
   "outputs": [],
   "source": [
    "x=25"
   ]
  },
  {
   "cell_type": "code",
   "execution_count": 34,
   "id": "d1f37a68",
   "metadata": {},
   "outputs": [],
   "source": [
    "y=75"
   ]
  },
  {
   "cell_type": "code",
   "execution_count": 35,
   "id": "f33f1914",
   "metadata": {},
   "outputs": [
    {
     "data": {
      "text/plain": [
       "100"
      ]
     },
     "execution_count": 35,
     "metadata": {},
     "output_type": "execute_result"
    }
   ],
   "source": [
    "x+y"
   ]
  },
  {
   "cell_type": "code",
   "execution_count": 36,
   "id": "51dc0eac",
   "metadata": {},
   "outputs": [],
   "source": [
    "a=125"
   ]
  },
  {
   "cell_type": "code",
   "execution_count": 37,
   "id": "d08fa847",
   "metadata": {},
   "outputs": [
    {
     "data": {
      "text/plain": [
       "100"
      ]
     },
     "execution_count": 37,
     "metadata": {},
     "output_type": "execute_result"
    }
   ],
   "source": [
    "a-x"
   ]
  },
  {
   "cell_type": "code",
   "execution_count": 38,
   "id": "017ea8d1",
   "metadata": {},
   "outputs": [],
   "source": [
    "b=4"
   ]
  },
  {
   "cell_type": "code",
   "execution_count": 39,
   "id": "5cb59f3c",
   "metadata": {},
   "outputs": [
    {
     "data": {
      "text/plain": [
       "100"
      ]
     },
     "execution_count": 39,
     "metadata": {},
     "output_type": "execute_result"
    }
   ],
   "source": [
    "x*b"
   ]
  },
  {
   "cell_type": "markdown",
   "id": "253bd613",
   "metadata": {},
   "source": [
    "#Code 2 floating-point variables and divide them by each other"
   ]
  },
  {
   "cell_type": "code",
   "execution_count": 40,
   "id": "1abdf4dc",
   "metadata": {},
   "outputs": [],
   "source": [
    "x=65.5"
   ]
  },
  {
   "cell_type": "code",
   "execution_count": 41,
   "id": "eaa78972",
   "metadata": {},
   "outputs": [],
   "source": [
    "y=5.5"
   ]
  },
  {
   "cell_type": "code",
   "execution_count": 42,
   "id": "8e039eac",
   "metadata": {},
   "outputs": [
    {
     "data": {
      "text/plain": [
       "11.909090909090908"
      ]
     },
     "execution_count": 42,
     "metadata": {},
     "output_type": "execute_result"
    }
   ],
   "source": [
    "x/y"
   ]
  },
  {
   "cell_type": "markdown",
   "id": "b4e0d0f0",
   "metadata": {},
   "source": [
    "#Construct a short word made of separate strings"
   ]
  },
  {
   "cell_type": "code",
   "execution_count": 43,
   "id": "bab4a12e",
   "metadata": {},
   "outputs": [],
   "source": [
    "a='scare'"
   ]
  },
  {
   "cell_type": "code",
   "execution_count": 44,
   "id": "230c9462",
   "metadata": {},
   "outputs": [],
   "source": [
    "b='crow'"
   ]
  },
  {
   "cell_type": "code",
   "execution_count": 45,
   "id": "03fea22d",
   "metadata": {},
   "outputs": [
    {
     "data": {
      "text/plain": [
       "'scarecrow'"
      ]
     },
     "execution_count": 45,
     "metadata": {},
     "output_type": "execute_result"
    }
   ],
   "source": [
    "a+b"
   ]
  },
  {
   "cell_type": "markdown",
   "id": "b775d08e",
   "metadata": {},
   "source": [
    "#Construct 2 short sentences made of separate strings"
   ]
  },
  {
   "cell_type": "code",
   "execution_count": 46,
   "id": "c02b885f",
   "metadata": {},
   "outputs": [],
   "source": [
    "a= 'I used to live in Kansas.'"
   ]
  },
  {
   "cell_type": "code",
   "execution_count": 47,
   "id": "bfa55210",
   "metadata": {},
   "outputs": [],
   "source": [
    "b = 'I moved to Texas.'"
   ]
  },
  {
   "cell_type": "code",
   "execution_count": 48,
   "id": "02748e41",
   "metadata": {},
   "outputs": [
    {
     "data": {
      "text/plain": [
       "'I used to live in Kansas.I moved to Texas.'"
      ]
     },
     "execution_count": 48,
     "metadata": {},
     "output_type": "execute_result"
    }
   ],
   "source": [
    "a+b"
   ]
  },
  {
   "cell_type": "code",
   "execution_count": 49,
   "id": "18dbe710",
   "metadata": {},
   "outputs": [
    {
     "data": {
      "text/plain": [
       "'I moved to Texas.I used to live in Kansas.'"
      ]
     },
     "execution_count": 49,
     "metadata": {},
     "output_type": "execute_result"
    }
   ],
   "source": [
    "b+a"
   ]
  },
  {
   "cell_type": "markdown",
   "id": "7ea93503",
   "metadata": {},
   "source": [
    "#Bonus Task"
   ]
  },
  {
   "cell_type": "code",
   "execution_count": 51,
   "id": "d8809ece",
   "metadata": {},
   "outputs": [],
   "source": [
    "n='love'"
   ]
  },
  {
   "cell_type": "code",
   "execution_count": 52,
   "id": "409b8b48",
   "metadata": {},
   "outputs": [
    {
     "data": {
      "text/plain": [
       "'lovelovelovelovelovelovelovelovelovelovelovelovelovelovelovelovelovelovelovelovelovelovelovelovelovelovelovelovelovelovelovelovelovelovelovelovelovelovelovelovelovelovelovelovelovelovelovelovelovelovelovelovelovelovelovelovelovelovelovelovelovelovelovelovelovelovelovelovelovelovelovelovelovelovelovelovelovelovelovelovelovelovelovelovelovelovelovelovelovelovelovelovelovelovelovelovelovelovelovelove'"
      ]
     },
     "execution_count": 52,
     "metadata": {},
     "output_type": "execute_result"
    }
   ],
   "source": [
    "n*100"
   ]
  },
  {
   "cell_type": "code",
   "execution_count": null,
   "id": "76102345",
   "metadata": {},
   "outputs": [],
   "source": []
  }
 ],
 "metadata": {
  "kernelspec": {
   "display_name": "Python 3 (ipykernel)",
   "language": "python",
   "name": "python3"
  },
  "language_info": {
   "codemirror_mode": {
    "name": "ipython",
    "version": 3
   },
   "file_extension": ".py",
   "mimetype": "text/x-python",
   "name": "python",
   "nbconvert_exporter": "python",
   "pygments_lexer": "ipython3",
   "version": "3.10.9"
  }
 },
 "nbformat": 4,
 "nbformat_minor": 5
}
